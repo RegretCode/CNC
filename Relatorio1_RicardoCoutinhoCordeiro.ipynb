{
  "nbformat": 4,
  "nbformat_minor": 0,
  "metadata": {
    "colab": {
      "provenance": [],
      "collapsed_sections": [
        "a2udhvBt5NsO",
        "SZpL4_15y5p_",
        "cbFd5OTMzdPT",
        "UTUZ2Kqf0Ywx",
        "x7_UYLDl1N7o",
        "OrOZVBCC1h3n",
        "rjVRSD1n1xtW",
        "ID3CHxaU4HNa"
      ],
      "authorship_tag": "ABX9TyPKjYM/NO5a6I5CDTJLwMWb",
      "include_colab_link": true
    },
    "kernelspec": {
      "name": "python3",
      "display_name": "Python 3"
    },
    "language_info": {
      "name": "python"
    }
  },
  "cells": [
    {
      "cell_type": "markdown",
      "metadata": {
        "id": "view-in-github",
        "colab_type": "text"
      },
      "source": [
        "<a href=\"https://colab.research.google.com/github/RegretColt/CNC/blob/main/Relatorio1_RicardoCoutinhoCordeiro.ipynb\" target=\"_parent\"><img src=\"https://colab.research.google.com/assets/colab-badge.svg\" alt=\"Open In Colab\"/></a>"
      ]
    },
    {
      "cell_type": "markdown",
      "source": [
        "# Relatório 1 – Resolução Numérica de Equações Algébricas e Transcendentes\n",
        "\n",
        "Nome: Ricardo Coutinho Cordeiro\n",
        "\n",
        "RM: 19200371\n",
        "\n",
        "Professora: Larissa A. de Freitas\n",
        "\n",
        "Nota: 9.7"
      ],
      "metadata": {
        "id": "a2udhvBt5NsO"
      }
    },
    {
      "cell_type": "markdown",
      "source": [
        "**Erros deste relatório:**\n",
        "\n",
        "**2) Justificativa incorreta e/ou faltante.**\n",
        "\n",
        "**5) Os resultados corretos para 3 iterações são B 0.0625, FP 0.0546, NR 0.0547, S 0.0547.**"
      ],
      "metadata": {
        "id": "h1WROyaWZkHb"
      }
    },
    {
      "cell_type": "markdown",
      "source": [
        "#**Bibliotecas Utilizadas**"
      ],
      "metadata": {
        "id": "SZpL4_15y5p_"
      }
    },
    {
      "cell_type": "code",
      "execution_count": null,
      "metadata": {
        "id": "1PNwJwPVyWC9"
      },
      "outputs": [],
      "source": [
        "from sympy import *\n",
        "import math\n",
        "import matplotlib.pyplot as plt\n",
        "import numpy as np"
      ]
    },
    {
      "cell_type": "markdown",
      "source": [
        "#**Métodos Utilizados**"
      ],
      "metadata": {
        "id": "cbFd5OTMzdPT"
      }
    },
    {
      "cell_type": "code",
      "source": [
        "# Bissecção\n",
        "\n",
        "def bisseccao(f, a, b, p):\n",
        "    if f(a) * f(b) >= p:\n",
        "        raise ValueError('Bissecção falhou')\n",
        "\n",
        "    i = 1\n",
        "    x = (a + b) / 2\n",
        "    fx = f(x)\n",
        "\n",
        "    while abs(fx) > p:\n",
        "        fa = f(a)\n",
        "        fax = fa * fx\n",
        "\n",
        "        if fax > 0:\n",
        "            a = x\n",
        "        else:\n",
        "            b = x\n",
        "\n",
        "        i += 1\n",
        "        x = (a + b) / 2\n",
        "        fx = f(x)\n",
        "\n",
        "    print(f'Raiz aproximada: {x}, em {i} iterações')"
      ],
      "metadata": {
        "id": "h_L4g3LAzOTm"
      },
      "execution_count": null,
      "outputs": []
    },
    {
      "cell_type": "code",
      "source": [
        "# Falsa Posição\n",
        "\n",
        "def falsaPosicao(f, a, b, p):\n",
        "    if f(a) * f(b) >= 0:\n",
        "        raise ValueError('Falsa posição falhou')\n",
        "\n",
        "    i = 0\n",
        "    fa = f(a)\n",
        "    fb = f(b)\n",
        "    x = (a * fb - b * fa) / (fb - fa)\n",
        "    fx = f(x)\n",
        "\n",
        "    while abs(fx) > p:\n",
        "        if fa * fx > 0:\n",
        "            a = x\n",
        "        else:\n",
        "            b = x\n",
        "\n",
        "        i += 1\n",
        "        fa = f(a)\n",
        "        fb = f(b)\n",
        "        x = (a * fb - b * fa) / (fb - fa)\n",
        "        fx = f(x)\n",
        "\n",
        "    print(f'Raiz aproximada: {x}, em {i} iterações')"
      ],
      "metadata": {
        "id": "L0BapNkVzbW1"
      },
      "execution_count": null,
      "outputs": []
    },
    {
      "cell_type": "code",
      "source": [
        "# Newton Raphson\n",
        "\n",
        "def newtonRaphson(f, x0, p, max_iterations):\n",
        "    fx0 = f(x0)\n",
        "\n",
        "    if abs(fx0) < p:\n",
        "        x = x0\n",
        "    else:\n",
        "        i = 0\n",
        "        while abs(fx0) >= p and i < max_iterations:\n",
        "            fd1 = (f(x0 + p) - f(x0 - p)) / (2 * p)\n",
        "            x1 = x0 - fx0 / fd1\n",
        "            if abs(f(x1)) < p or abs(x1 - x0) < p:\n",
        "                x = x1\n",
        "                break\n",
        "            x0 = x1\n",
        "            fx0 = f(x0)\n",
        "            i += 1\n",
        "        else:\n",
        "            raise ValueError('Não foi possível encontrar uma raiz')\n",
        "\n",
        "    print(f'Raiz aproximada: {x}, em {i} iterações')"
      ],
      "metadata": {
        "id": "sYwnRqOyz15E"
      },
      "execution_count": null,
      "outputs": []
    },
    {
      "cell_type": "code",
      "source": [
        "def secante(f, x0, x1, precisao, n_iter):\n",
        "\n",
        "    i = 0\n",
        "    x_barra = None\n",
        "\n",
        "    f_x0 = f(x0)\n",
        "    f_x1 = f(x1)\n",
        "\n",
        "    if abs(f_x0) < precisao:\n",
        "        x_barra = x0\n",
        "    elif abs(f_x1) < precisao or abs(x1 - x0) < precisao:\n",
        "        x_barra = x1\n",
        "\n",
        "    while abs(f_x0) >= precisao or abs(f_x1) >= precisao and i < n_iter:\n",
        "        x2 = x1 - (f_x1 / (f_x1 - f_x0)) * (x1 - x0)\n",
        "        if abs(f(x2)) < precisao or abs(x2 - x1) < precisao:\n",
        "            x_barra = x2\n",
        "\n",
        "        x0 = x1\n",
        "        x1 = x2\n",
        "        f_x0 = f(x0)\n",
        "        f_x1 = f(x1)\n",
        "        i += 1\n",
        "\n",
        "    print(f\"Raiz aproximada: {x_barra}, em {i} iterações\")\n",
        "\n",
        "\n"
      ],
      "metadata": {
        "id": "W4uxH2szz8Ir"
      },
      "execution_count": null,
      "outputs": []
    },
    {
      "cell_type": "code",
      "source": [
        "# Grafico\n",
        "\n",
        "def plot_grafico(x, y, xlabel='', ylabel='', title=''):\n",
        "\n",
        "    plt.plot(x, y)\n",
        "    plt.xlabel(xlabel)\n",
        "    plt.ylabel(ylabel)\n",
        "    plt.title(title)\n",
        "    plt.grid(True)\n",
        "    plt.show()"
      ],
      "metadata": {
        "id": "c7pd3MRxtgdG"
      },
      "execution_count": null,
      "outputs": []
    },
    {
      "cell_type": "markdown",
      "source": [
        "# **Exercícios**"
      ],
      "metadata": {
        "id": "Oh4GtzWP0Rjy"
      }
    },
    {
      "cell_type": "markdown",
      "source": [
        "# 1. Considere o polinômio P (x) = x³ − 36x² + 188x − 240.\n",
        "\n",
        "Verifique que um dos zeros de P(x) se localiza no intervalo [29.5, 31].\n",
        "\n",
        "Para aproximar o zero referido, podem ser usadas diferentes estratégias como, por exemplo:\n",
        "\n",
        "a) método da Bissecção no referido intervalo, com tol = 10⁻⁴;\n",
        "\n",
        "b) método de Newton-Raphson, com a aproximação inicial x(0) = 29.5 e tol= 10⁻⁴.\n",
        "\n"
      ],
      "metadata": {
        "id": "UTUZ2Kqf0Ywx"
      }
    },
    {
      "cell_type": "code",
      "source": [
        "# a)\n",
        "f = lambda x : x**3 - 36*x**2 + 188*x -240\n",
        "\n",
        "bisseccao(f, 29.5, 31, 0.0001)\n",
        "\n",
        "# b)\n",
        "\n",
        "newtonRaphson(f, 29.5, 0.0001, 100)"
      ],
      "metadata": {
        "id": "X2ElG5EH0Qlj",
        "colab": {
          "base_uri": "https://localhost:8080/"
        },
        "outputId": "c2af8b3e-e8b9-4686-9340-509674a6dd5d"
      },
      "execution_count": null,
      "outputs": [
        {
          "output_type": "stream",
          "name": "stdout",
          "text": [
            "Raiz aproximada: 29.99999988079071, em 22 iterações\n",
            "Raiz aproximada: 30.000000000060425, em 2 iterações\n"
          ]
        }
      ]
    },
    {
      "cell_type": "markdown",
      "source": [
        "Compare os resultados obtidos com os dois métodos.\n",
        "\n",
        "Podemos notar que ambos os métodos encontraram uma raiz aproximada próxima de 30. No entanto, existem diferenças significativas na rapidez da convergência e no número de iterações necessárias.\n",
        "\n",
        "O método da Bissecção requer um número maior de iterações (22) para alcançar a convergência, pois ele divide repetidamente o intervalo pela metade até que a tolerância seja atingida. Esse método é relativamente lento, mas garante a convergência para funções contínuas e possui uma taxa de convergência linear.\n",
        "\n",
        "Por outro lado, o método de Newton-Raphson converge muito mais rapidamente, exigindo apenas 2 iterações para alcançar a convergência. Esse método utiliza a derivada da função para encontrar a próxima aproximação da raiz, aproveitando a informação local sobre a curva da função. Ele geralmente possui uma taxa de convergência quadrática, o que resulta em uma convergência mais rápida em comparação com o método da Bissecção."
      ],
      "metadata": {
        "id": "glrEC-_5D0ou"
      }
    },
    {
      "cell_type": "markdown",
      "source": [
        "# 2. Aplique o método da Falsa Posição para calcular a raiz de:\n",
        "\n",
        "x² - 5 = 0 com tol = 0.01.\n",
        "\n",
        "a) partindo do intervalo inicial [2, 2.5];\n",
        "\n",
        "b) partindo do intervalo inicial [2, 3]."
      ],
      "metadata": {
        "id": "x7_UYLDl1N7o"
      }
    },
    {
      "cell_type": "code",
      "source": [
        "# a)\n",
        "f2 = lambda x : x**2 - 5\n",
        "\n",
        "falsaPosicao(f2, 2, 2.5, 0.01)\n",
        "\n",
        "# b)\n",
        "falsaPosicao(f2, 2, 3, 0.01)"
      ],
      "metadata": {
        "id": "2Ph4_bbj1hPQ",
        "colab": {
          "base_uri": "https://localhost:8080/"
        },
        "outputId": "32df3c2c-0111-428d-d0dd-6083a21d45bd"
      },
      "execution_count": null,
      "outputs": [
        {
          "output_type": "stream",
          "name": "stdout",
          "text": [
            "Raiz aproximada: 2.2352941176470584, em 1 iterações\n",
            "Raiz aproximada: 2.2352941176470584, em 2 iterações\n"
          ]
        }
      ]
    },
    {
      "cell_type": "markdown",
      "source": [
        "Podemos afirmar que a raiz exata x = x’ ± tol ? Justifique.\n",
        "\n",
        "A raiz exata da equação x² - 5 = 0 é a solução exata, que é igual a √5. No entanto, os métodos numéricos fornecem apenas uma aproximação da raiz.\n",
        "\n",
        "No contexto do problema, a tolerância (tol) é o critério de parada para os métodos numéricos. É o limite máximo aceitável para o erro na aproximação da raiz.\n",
        "\n",
        "Dito isso, podemos afirmar que a raiz exata não é igual a x' ± tol. A raiz exata é igual a √5, enquanto as aproximações obtidas pelo método da Falsa Posição estão próximas, mas não exatamente iguais a √5.\n",
        "\n",
        "A tolerância (tol) é utilizada para definir o critério de parada do método numérico. Quando a diferença entre duas iterações consecutivas é menor que a tolerância, considera-se que a aproximação da raiz é suficientemente precisa e o método é encerrado."
      ],
      "metadata": {
        "id": "_PHmBRdTFbN9"
      }
    },
    {
      "cell_type": "markdown",
      "source": [
        "# 3. Considere a equação e ^ 1/x − x = 0.\n",
        "\n",
        "a) Mostre graficamente que a equação anterior tem uma única raiz no intervalo\n",
        "[1, 2].\n",
        "\n",
        "b) Considere a aproximação inicial x⁽⁰⁾ = 1.\n",
        "Verifique o método de Newton - Raphson converge."
      ],
      "metadata": {
        "id": "OrOZVBCC1h3n"
      }
    },
    {
      "cell_type": "code",
      "source": [
        "f3 = lambda x: math.exp(1/x) - x\n",
        "\n",
        "# a)\n",
        "x_values = [x / 100 for x in range(100, 201)]\n",
        "y_values = [f3(x) for x in x_values]\n",
        "\n",
        "plot_grafico(x_values, y_values, xlabel='x', ylabel='f(x)', title='Gráfico de f(x)')\n",
        "\n",
        "# b)\n",
        "p = 1e-6 # a tolerância de 1e-6 ou (0.000001) foi escolhida arbitrariamente, mas é um valor comumente utilizado em cálculos numéricos para indicar uma boa precisão.\n",
        "\n",
        "newtonRaphson(f3, 1, p, 100)"
      ],
      "metadata": {
        "id": "OaUwoUte1xFy",
        "colab": {
          "base_uri": "https://localhost:8080/",
          "height": 490
        },
        "outputId": "fd76807d-b7b4-483a-c8f4-65878e66dd93"
      },
      "execution_count": null,
      "outputs": [
        {
          "output_type": "display_data",
          "data": {
            "text/plain": [
              "<Figure size 640x480 with 1 Axes>"
            ],
            "image/png": "[encoded data removed]"
          },
          "metadata": {}
        },
        {
          "output_type": "stream",
          "name": "stdout",
          "text": [
            "Raiz aproximada: 1.7632228153235108, em 3 iterações\n"
          ]
        }
      ]
    },
    {
      "cell_type": "markdown",
      "source": [
        "Podemos observar que o método de Newton-Raphson convergiu para uma raiz aproximada de 1.7632228153235108 em apenas 3 iterações.\n",
        "\n",
        "Para que o método de Newton-Raphson seja aplicável, é necessário que a função seja diferenciável e que a derivada não seja igual a zero na vizinhança da raiz. Nesse caso, ambas as condições são satisfeitas.\n",
        "\n",
        "Além disso, o ponto de partida inicial (aproximação inicial) também pode afetar a convergência do método. No caso em questão, a aproximação inicial de x⁽⁰⁾ = 1 foi adequada para alcançar a convergência rapidamente."
      ],
      "metadata": {
        "id": "Yta6ZWnQGcq_"
      }
    },
    {
      "cell_type": "markdown",
      "source": [
        "# 4. A recolha de energia solar através da focagem de um\n",
        "campo plano de espelhos numa central de recolha foi estudada por Vant-Hull (1976). A equação para a\n",
        "concentração geométrica do fator C é dada por:\n",
        "\n",
        "![image.png](data:image/png;base64,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)\n",
        "\n",
        "\n",
        "em que A é o ângulo do campo, F é a cobertura da fração do campo com\n",
        "espelhos, D é o diâmetro do coletor e h é o comprimento do coletor.\n",
        "Considerando h = 300, F = 0.8 e D = 14, calcule o ângulo positivo A inferior a π/25 para o qual a concentração do fator C é 1200. Utilize o método iterativo mais\n",
        "adequado e considere no critério de paragem ε1 = ε2 = 10⁻³ ou no máximo 3\n",
        "iterações."
      ],
      "metadata": {
        "id": "rjVRSD1n1xtW"
      }
    },
    {
      "cell_type": "code",
      "source": [
        "h = 300\n",
        "F = 0.8\n",
        "D = 14\n",
        "C = 1200\n",
        "x0 = math.pi/25\n",
        "\n",
        "f4 = lambda A: (math.pi * (h / math.cos(A))**2 * F) / (0.5 * math.pi * D**2 * (1 + math.sin(A) - 0.5 * math.cos(A))) - C\n",
        "\n",
        "newtonRaphson(f4, x0, 0.001, 3)"
      ],
      "metadata": {
        "id": "tbanU4uQ2xmd",
        "colab": {
          "base_uri": "https://localhost:8080/"
        },
        "outputId": "17ea201c-1c2e-40b6-cae1-4aa2cab4e8ef"
      },
      "execution_count": null,
      "outputs": [
        {
          "output_type": "stream",
          "name": "stdout",
          "text": [
            "Raiz aproximada: 0.11760901272663078, em 1 iterações\n"
          ]
        }
      ]
    },
    {
      "cell_type": "markdown",
      "source": [
        "Podemos observar que o método de Newton-Raphson convergiu rapidamente em apenas 1 iteração, encontrando uma raiz aproximada de 0.11760901272663078.\n",
        "\n",
        "O método de Newton-Raphson é adequado para esse problema, pois utiliza a derivada da função para encontrar a próxima aproximação da raiz, aproveitando a informação local sobre a curva da função. Ele possui uma taxa de convergência quadrática, o que resulta em uma convergência rápida em muitos casos.\n",
        "\n",
        "Ao definir um critério de parada com ε1 = ε2 = 10⁻³ ou no máximo 3 iterações, garantimos que o método não continuará iterando indefinidamente e terá um limite para encerrar o processo.\n",
        "\n",
        "Portanto, com base nos resultados obtidos, podemos concluir que o método de Newton-Raphson foi eficaz para encontrar a raiz do ângulo A, que satisfaz a condição de concentração do fator C igual a 1200."
      ],
      "metadata": {
        "id": "99i1HoWrIU0I"
      }
    },
    {
      "cell_type": "markdown",
      "source": [
        "# 5. Um certo equipamento de 20000 reais vai ser pago durante 6 anos. O pagamento anual é de 4000 reais. A relação entre o custo do equipamento P, o pagamento\n",
        "anual A, o número de anos n e a taxa de juro i é a seguinte:\n",
        "\n",
        "![image.png](data:image/png;base64,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)\n",
        "\n",
        "Utilize os métodos da Bissecção, Falsa Posição, Newton-Raphson e Secante para determinar a taxa de juro utilizada nos cálculos. O valor da taxa de juro pertence ao intervalo [0.05, 0.15]. Para a paragem do processo iterativo use ε1 = ε2 = 0.05\n",
        "ou no máximo 3 iterações. Compare e explique os resultados obtidos por cada método (por exemplo: rapidez da convergência e esforço computacional)"
      ],
      "metadata": {
        "id": "ID3CHxaU4HNa"
      }
    },
    {
      "cell_type": "code",
      "source": [
        "P = 20000\n",
        "A = 4000\n",
        "n = 6\n",
        "\n",
        "f5 = lambda i : A - P * (i * (1 + i)**n) / ((1 + i)**n - 1)\n",
        "\n",
        "# a) Método da Bissecção\n",
        "print('Bissecção')\n",
        "bisseccao(f5, 0.05, 0.15, 0.05)\n",
        "\n",
        "# b) Método da Falsa Posição\n",
        "print('Falsa Posição')\n",
        "falsaPosicao(f5, 0.05, 0.15, 0.05)\n",
        "\n",
        "# c) Método de Newton-Raphson\n",
        "print('Newton-Raphson')\n",
        "newtonRaphson(f5, 0.1, 0.05, 3)\n",
        "\n",
        "# d) Método da Secante\n",
        "print('Secante')\n",
        "secante(f5, 0.05, 0.15, 0.05, 3)"
      ],
      "metadata": {
        "id": "tutVfk_A4kih",
        "colab": {
          "base_uri": "https://localhost:8080/"
        },
        "outputId": "93d6a64e-4b8f-4629-fe46-d8b10649f590"
      },
      "execution_count": null,
      "outputs": [
        {
          "output_type": "stream",
          "name": "stdout",
          "text": [
            "Bissecção\n",
            "Raiz aproximada: 0.054718017578125, em 14 iterações\n",
            "Falsa Posição\n",
            "Raiz aproximada: 0.05471694049277313, em 2 iterações\n",
            "Newton-Raphson\n",
            "Raiz aproximada: 0.055954139096950455, em 0 iterações\n",
            "Secante\n",
            "Raiz aproximada: 0.05471792502349912, em 4 iterações\n"
          ]
        }
      ]
    },
    {
      "cell_type": "markdown",
      "source": [
        "Método da Bissecção:\n",
        "- O método da Bissecção requer o maior número de iterações 14 para alcançar a convergência. Esse método divide repetidamente o intervalo pela metade até que a tolerância seja atingida. Apesar de sua convergência ser mais lenta, ele garante a convergência para funções contínuas e tem uma taxa de convergência linear.\n",
        "\n",
        "Método da Falsa Posição:\n",
        "- O método da Falsa Posição requer apenas 2 iterações para atingir a convergência. Ele utiliza uma interpolação linear entre dois pontos para estimar a raiz da função. Esse método também possui uma taxa de convergência linear e é eficiente para funções com curvas suaves.\n",
        "\n",
        "Método de Newton-Raphson:\n",
        "- O método de Newton-Raphson converge em 0 iterações, o que indica que a raiz foi encontrada diretamente. Isso pode ocorrer quando a aproximação inicial é muito próxima da raiz exata. O método de Newton-Raphson é conhecido por sua taxa de convergência quadrática, que geralmente resulta em uma convergência mais rápida.\n",
        "\n",
        "Método da Secante:\n",
        "- O método da Secante requer 4 iterações para alcançar a convergência. Esse método estima a raiz utilizando uma linha secante entre dois pontos. Ele possui uma taxa de convergência superlinear e é eficiente quando a derivada da função não é facilmente calculável.\n",
        "\n",
        "Considerando os resultados obtidos, podemos concluir que o método de Newton-Raphson foi o mais eficiente em termos de rapidez de convergência, encontrando uma raiz aproximada em 0 iterações. O método da Falsa Posição e Secante também tiveram um desempenho rápido, encontrando a raiz em apenas, 2 e 4 iterações, respectivamente. O método da Bissecção foi mais lento, exigindo 14 iterações para encontrar a raiz."
      ],
      "metadata": {
        "id": "C9LOpavkOsbm"
      }
    }
  ]
}